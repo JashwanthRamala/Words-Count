{
 "cells": [
  {
   "cell_type": "code",
   "execution_count": 1,
   "id": "6b63c5d5",
   "metadata": {},
   "outputs": [
    {
     "name": "stdout",
     "output_type": "stream",
     "text": [
      "Welcome to the Word Counter Program!\n",
      "This program will count the number of words in the text you provide.\n",
      "\n",
      "Please enter a sentence or paragraph: Please enter a sentence or paragraph\n",
      "\n",
      "The number of words in your input is: 6\n"
     ]
    }
   ],
   "source": [
    "def count_words(text):\n",
    "    \"\"\"\n",
    "    This function takes a string as input and returns the number of words in it.\n",
    "    Words are considered as sequences of characters separated by whitespace.\n",
    "    \"\"\"\n",
    "    # Check if the input is empty or just whitespace\n",
    "    if not text.strip():\n",
    "        return 0\n",
    "    \n",
    "    # Split the text into words based on whitespace and return the number of words\n",
    "    words = text.split()\n",
    "    return len(words)\n",
    "\n",
    "def main():\n",
    "    \"\"\"\n",
    "    Main function to run the Word Counter program.\n",
    "    Prompts the user for input, processes it, and displays the word count.\n",
    "    \"\"\"\n",
    "    print(\"Welcome to the Word Counter Program!\")\n",
    "    print(\"The program will count the number of words in the text you provide.\\n\")\n",
    "    \n",
    "    user_input = input(\"Please enter a sentence or paragraph: \")\n",
    "    \n",
    "    # Count the words using the count_words function\n",
    "    word_count = count_words(user_input)\n",
    "    \n",
    "    # Display the result based on the word count\n",
    "    if word_count == 0:\n",
    "        print(\"\\nYou didn't enter any words. Please try again with a valid input.\")\n",
    "    else:\n",
    "        print(f\"\\nThe number of words in your input is: {word_count}\")\n",
    "\n",
    "if __name__ == \"__main__\":\n",
    "    main()\n"
   ]
  },
  {
   "cell_type": "code",
   "execution_count": null,
   "id": "80b441e0",
   "metadata": {},
   "outputs": [],
   "source": []
  },
  {
   "cell_type": "code",
   "execution_count": null,
   "id": "9bd91e45",
   "metadata": {},
   "outputs": [],
   "source": []
  },
  {
   "cell_type": "code",
   "execution_count": null,
   "id": "b62c2e48",
   "metadata": {},
   "outputs": [],
   "source": []
  },
  {
   "cell_type": "code",
   "execution_count": null,
   "id": "6285bf8e",
   "metadata": {},
   "outputs": [],
   "source": []
  },
  {
   "cell_type": "code",
   "execution_count": null,
   "id": "9489299a",
   "metadata": {},
   "outputs": [],
   "source": []
  },
  {
   "cell_type": "code",
   "execution_count": null,
   "id": "ca6182a6",
   "metadata": {},
   "outputs": [],
   "source": []
  },
  {
   "cell_type": "code",
   "execution_count": null,
   "id": "bb313c11",
   "metadata": {},
   "outputs": [],
   "source": []
  },
  {
   "cell_type": "code",
   "execution_count": null,
   "id": "ee709458",
   "metadata": {},
   "outputs": [],
   "source": []
  }
 ],
 "metadata": {
  "kernelspec": {
   "display_name": "Python 3 (ipykernel)",
   "language": "python",
   "name": "python3"
  },
  "language_info": {
   "codemirror_mode": {
    "name": "ipython",
    "version": 3
   },
   "file_extension": ".py",
   "mimetype": "text/x-python",
   "name": "python",
   "nbconvert_exporter": "python",
   "pygments_lexer": "ipython3",
   "version": "3.11.5"
  }
 },
 "nbformat": 4,
 "nbformat_minor": 5
}
